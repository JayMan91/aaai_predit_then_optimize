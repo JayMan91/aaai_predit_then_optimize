{
 "cells": [
  {
   "cell_type": "code",
   "execution_count": 1,
   "metadata": {},
   "outputs": [],
   "source": [
    "from SPO import *\n",
    "from SelectiveRegression import *\n",
    "from LinearRegression import *"
   ]
  },
  {
   "cell_type": "code",
   "execution_count": 2,
   "metadata": {},
   "outputs": [
    {
     "name": "stderr",
     "output_type": "stream",
     "text": [
      "/home/jayanta/Documents/Projects/knapsack/KnapsackSPO/EnergyCost/get_energy.py:23: FutureWarning: Method .as_matrix will be removed in a future version. Use .values instead.\n",
      "  X1g = df.loc[:, df.columns != 'SMPEP2'].as_matrix()\n",
      "/home/jayanta/Documents/Projects/knapsack/KnapsackSPO/EnergyCost/get_energy.py:24: FutureWarning: Method .as_matrix will be removed in a future version. Use .values instead.\n",
      "  y = df.loc[:, 'SMPEP2'].as_matrix()\n"
     ]
    }
   ],
   "source": [
    "(X_1gtrain, y_train, X_1gtest, y_test) = get_energy()"
   ]
  },
  {
   "cell_type": "code",
   "execution_count": 3,
   "metadata": {},
   "outputs": [
    {
     "data": {
      "text/plain": [
       "(26496,)"
      ]
     },
     "execution_count": 3,
     "metadata": {},
     "output_type": "execute_result"
    }
   ],
   "source": [
    "y_train.shape"
   ]
  },
  {
   "cell_type": "code",
   "execution_count": 4,
   "metadata": {},
   "outputs": [
    {
     "data": {
      "text/plain": [
       "(11376,)"
      ]
     },
     "execution_count": 4,
     "metadata": {},
     "output_type": "execute_result"
    }
   ],
   "source": [
    "y_test.shape"
   ]
  },
  {
   "cell_type": "code",
   "execution_count": 7,
   "metadata": {},
   "outputs": [
    {
     "data": {
      "text/plain": [
       "672"
      ]
     },
     "execution_count": 7,
     "metadata": {},
     "output_type": "execute_result"
    }
   ],
   "source": [
    "48*14"
   ]
  },
  {
   "cell_type": "code",
   "execution_count": 5,
   "metadata": {},
   "outputs": [
    {
     "data": {
      "text/plain": [
       "552"
      ]
     },
     "execution_count": 5,
     "metadata": {},
     "output_type": "execute_result"
    }
   ],
   "source": [
    "26496//48"
   ]
  },
  {
   "cell_type": "code",
   "execution_count": 6,
   "metadata": {},
   "outputs": [
    {
     "data": {
      "text/plain": [
       "237"
      ]
     },
     "execution_count": 6,
     "metadata": {},
     "output_type": "execute_result"
    }
   ],
   "source": [
    "11376//48"
   ]
  },
  {
   "cell_type": "code",
   "execution_count": null,
   "metadata": {},
   "outputs": [],
   "source": [
    "from SelectiveRegression import *\n",
    "from SPO import *\n",
    "from LinearRegression import *\n",
    "import pandas as pd\n",
    "import numpy as np\n",
    "(X_1gtrain, y_train, X_1gtest, y_test) = get_energy()\n",
    "\n",
    "jobs = [4]\n",
    "no_exp = 10\n",
    "\n",
    "Models= {\"SPO\":SGD_SPO,\"slereg\":Pytorch_SelReg}\n",
    "lr_list =  [10**(-i) for i in range(1,3)]\n",
    "performance = []\n",
    "for m in Models:\n",
    "\tmeasure_name = [\"model\",\"lr\" ,\"Mean loss\",\"SD loss\",\"Mean regret\",\"SD regret\",\"Mean accuracy\",\"SD accuracy\",\"Mean precision\",\"SD precision\",\"Mean tpr\",\"Mean fpr\"]\n",
    "\tfor lr in lr_list:\n",
    "\t\taccuracy_measure =[ ]\n",
    "\t\tprecision_measure =[]\n",
    "\t\ttpr_measure= []\n",
    "\t\tfpr_measure = []\n",
    "\t\tloss_measure= []\n",
    "\t\tregret_measure= []\n",
    "\t\tfor x in range(no_exp):\n",
    "\t\t\tclf= Models[m](jobs= jobs,epochs= 10,lr=lr)\n",
    "\t\t\ttry:\n",
    "\t\t\t\tclf.fit(X_1gtrain,y_train)\n",
    "\t\t\t\tscr = clf.test_score(X_1gtest,y_test)\n",
    "\t\t\t\tcf = scr['confusion_matrix']\n",
    "\t\t\t\taccuracy = (cf[0,0]+cf[1,1]) /np.sum(cf)\n",
    "\t\t\t\ttpr =  cf[0,0]/(cf[0,0]+cf[1,0])\n",
    "\t\t\t\tfpr = cf[1,0]/(cf[1,0]+cf[1,1])\n",
    "\t\t\t\tprecision = cf[0,0]/(cf[0,0]+cf[0,1]) \n",
    "\t\t\t\tregret_measure.append(scr['regret'])\n",
    "\t\t\t\taccuracy_measure.append(accuracy)\n",
    "\t\t\t\ttpr_measure.append(tpr)\n",
    "\t\t\t\tfpr_measure.append(fpr)\n",
    "\t\t\t\tprecision_measure.append(precision)\n",
    "\t\t\t\tloss_measure.append(scr['loss'])\n",
    "\t\t\texcept Exception as e:\n",
    "\t\t\t\tprint(\"type error: \" + str(e))\n",
    "\t\t\tclf.fit(X_1gtrain,y_train)\n",
    "\t\t\tscr = clf.test_score(X_1gtest,y_test)\n",
    "\t\t\tcf = scr['confusion_matrix']\n",
    "\t\t\taccuracy = (cf[0,0]+cf[1,1]) /np.sum(cf)\n",
    "\t\t\ttpr =  cf[0,0]/(cf[0,0]+cf[1,0])\n",
    "\t\t\tfpr = cf[1,0]/(cf[1,0]+cf[1,1])\n",
    "\t\t\tprecision = cf[0,0]/(cf[0,0]+cf[0,1]) \n",
    "\t\t\tregret_measure.append(scr['regret'])\n",
    "\t\t\taccuracy_measure.append(accuracy)\n",
    "\t\t\ttpr_measure.append(tpr)\n",
    "\t\t\tfpr_measure.append(fpr)\n",
    "\t\t\tprecision_measure.append(precision)\n",
    "\t\t\tloss_measure.append(scr['loss'])\n",
    "\t\tperformance.append( [m,lr,np.mean(loss_measure),np.std(loss_measure),np.mean(regret_measure),np.std(regret_measure),np.mean(accuracy_measure),np.std(accuracy_measure),np.mean(precision_measure),np.std(precision_measure),\\\n",
    "\t\tnp.mean(tpr_measure),np.mean(fpr_measure)])\n",
    "\n",
    "performance = pd.DataFrame(performance,columns= measure_name)\n",
    "performance.to_csv(\"ExperimentResults_5.csv\")\n"
   ]
  },
  {
   "cell_type": "code",
   "execution_count": 18,
   "metadata": {},
   "outputs": [],
   "source": [
    "import math\n",
    "import random\n",
    "import numpy as np\n",
    "import matplotlib.pyplot as plt\n",
    "import pandas as pd\n",
    "from sklearn import preprocessing\n",
    "import torch\n",
    "from torch import nn, optim\n",
    "from torch.autograd import Variable\n",
    "from get_energy import get_energy\n",
    "from energy_cost import *\n",
    "\n",
    "class Pytorch_regression:\n",
    "    def __init__(self,jobs, epochs=2, doScale=True, n_items=48, verbose=False,plotting=False,return_regret= False,optimizer= optim.SGD,**hyperparam):\n",
    "        self.n_items = n_items\n",
    "        self.jobs = jobs\n",
    "\n",
    "        self.hyperparam = hyperparam\n",
    "        self.epochs = epochs\n",
    "\n",
    "        self.doScale=doScale\n",
    "        self.verbose=verbose\n",
    "        self.plotting = plotting\n",
    "        self.return_regret = return_regret\n",
    "        self.optimizer = optimizer\n",
    "\n",
    "        self.scaler = None\n",
    "        self.model = None\n",
    "        self.best_params_ = {\"p\":\"default\"}\n",
    "        self.criterion = nn.MSELoss()\n",
    "\n",
    "\n",
    "    def fit(self, x_train, y_train,x_validation=None,y_validation=None,batch=False):\n",
    "        qids = np.array(x_train[:,0], dtype=int) # qid column\n",
    "        x_train = x_train[:,1:] # without group ID\n",
    "        validation = (x_validation is not None) and (y_validation is not None)\n",
    "        \n",
    "        # scale data?\n",
    "        if self.doScale:\n",
    "            self.scaler = preprocessing.StandardScaler().fit(x_train)\n",
    "            x_train = self.scaler.transform(x_train)\n",
    "\n",
    "        trch_X_train = torch.from_numpy(x_train).float()\n",
    "        trch_y_train = torch.from_numpy(np.array([y_train]).T).float()\n",
    "        \n",
    "        if self.plotting:\n",
    "            subepoch_list= []\n",
    "            loss_list =[]\n",
    "            regret_list = []\n",
    "            if validation:\n",
    "                loss_list_validation= []\n",
    "                regret_list_validation= []\n",
    "        # basics\n",
    "        jobs = self.jobs\n",
    "        n_items = self.n_items\n",
    "        n_knapsacks = len(trch_X_train)//n_items\n",
    "        # prepping\n",
    "        knaps_V_true = [get_profits(trch_y_train, kn_nr, n_items) for kn_nr in range(n_knapsacks)]\n",
    "        knaps_sol = [get_energy_indicators(V_true,jobs) for V_true in knaps_V_true]\n",
    "        \n",
    "        # network\n",
    "        self.model = LinearRegression(trch_X_train.shape[1],1) # input dim, output dim\n",
    "\n",
    "        # loss\n",
    "        \n",
    "        optimizer = self.optimizer(self.model.parameters(), **self.hyperparam)\n",
    "        num_epochs = self.epochs\n",
    "\n",
    "        # training\n",
    "        subepoch = 0 # for logging and nice curves\n",
    "        logger = [] # (dict_epoch, dict_train, dict_test)\n",
    "        for epoch in range(num_epochs):\n",
    "            #scheduler.step()\n",
    "            knapsack_nrs = [x for x in range(n_knapsacks)]\n",
    "            random.shuffle(knapsack_nrs) # randomly shuffle order of training\n",
    "            cnt=0\n",
    "            if not batch:\n",
    "                train_fwdbwd(self.model, self.criterion, optimizer, trch_X_train, trch_y_train, 1.0)\n",
    "            else:\n",
    "                for kn_nr in knapsack_nrs:\n",
    "                    V_true = knaps_V_true[kn_nr]\n",
    "                    kn_start = kn_nr*n_items\n",
    "                    kn_stop = kn_start+n_items\n",
    "                    suby=  torch.from_numpy(V_true).float()\n",
    "                    train_fwdbwd(model= self.model, criterion=self.criterion, \n",
    "                             optimizer= optimizer, sub_X_train=trch_X_train[kn_start:kn_stop],\n",
    "                             sub_y_train= suby, mult=1.0)\n",
    "            if validation:\n",
    "                    dict_validation = self.test_score(x_validation,y_validation)\n",
    "            if self.plotting:\n",
    "                    cnt += 1\n",
    "                    subepoch += 1\n",
    "                    dict_train = test_fwd(self.model, self.criterion, trch_X_train, trch_y_train, n_items, self.jobs)\n",
    "                    loss_list.append(dict_train['loss'])\n",
    "                    regret_list.append(dict_train['regret'])\n",
    "                    subepoch_list.append(subepoch)\n",
    "                    if validation:\n",
    "                        loss_list_validation.append(dict_validation['loss'])\n",
    "                        regret_list_validation.append(dict_validation['regret'])\n",
    "            if self.verbose:\n",
    "                        if not self.plotting:\n",
    "                            cnt += 1\n",
    "                            subepoch += 1\n",
    "                        if cnt :\n",
    "                            dict_epoch = {'epoch': epoch+1, 'subepoch': subepoch, 'cnt': cnt}\n",
    "                            dict_train = test_fwd(self.model, self.criterion, trch_X_train, trch_y_train, n_items, self.jobs)\n",
    "                            if validation:\n",
    "                                logger.append( (dict_epoch, dict_train,dict_validation) )\n",
    "                                print('Epoch[{}/{}]::{}, loss(train): {:.6f}, regret(train): {:.2f}, loss(validation): {:.6f}, regret(validation): {:.2f}'.format(epoch+1, \n",
    "                                    num_epochs, cnt, dict_train['loss'], dict_train['regret'],dict_validation['loss'],dict_validation['regret']  ))\n",
    "                            else:\n",
    "                                logger.append( (dict_epoch, dict_train) )\n",
    "                                print('Epoch[{}/{}]::{}, loss: {:.6f}, regret(train): {:.2f}'.format(epoch+1, num_epochs, cnt, dict_train['loss'], dict_train['regret']))\n",
    "        \n",
    "        if self.plotting:\n",
    "            import matplotlib.pyplot as plt\n",
    "            if validation:\n",
    "                plt.subplot(2, 1, 1)\n",
    "                plt.plot(subepoch_list,regret_list,subepoch_list,regret_list_validation)\n",
    "                plt.title('Learning Curve')\n",
    "                plt.ylabel('Regret')\n",
    "                plt.ylim(top=  np.mean(regret_list)+ 5*np.std(regret_list))\n",
    "                plt.legend([\"training\",\"validation\"])\n",
    "                plt.subplot(2, 1, 2)\n",
    "                plt.plot(subepoch_list, loss_list,subepoch_list,loss_list_validation)\n",
    "                plt.xlabel('Sub Epochs')\n",
    "                plt.ylabel('Loss')\n",
    "                plt.ylim(top= np.median(loss_list)+ 5*np.std(loss_list))\n",
    "                plt.legend([\"training\",\"validation\"])\n",
    "                plt.show()\n",
    "            else:\n",
    "                plt.subplot(2, 1, 1)\n",
    "                plt.plot(subepoch_list,regret_list)\n",
    "                plt.title('Learning Curve')\n",
    "                plt.ylabel('Regret')\n",
    "                plt.ylim(top= np.mean(regret_list)+ 5*np.std(regret_list))\n",
    "                plt.subplot(2, 1, 2)\n",
    "                plt.plot(subepoch_list, loss_list)\n",
    "                plt.ylim(top= np.median(loss_list)+ 5*np.std(loss_list))\n",
    "                plt.xlabel('Sub Epochs')\n",
    "                plt.ylabel('Loss')\n",
    "                plt.show()        \n",
    "        if self.return_regret:\n",
    "            dict_train = test_fwd(self.model, self.criterion, trch_X_train, trch_y_train, n_items, self.jobs)\n",
    "            if validation:\n",
    "                dict_validation = self.test_score(x_validation,y_validation)\n",
    "                return {\"loss_training\":dict_train['loss'].item(),\"regret_training\":dict_train['regret'],\n",
    "                \"loss_validation\":dict_validation['loss'],\"regret_validation\":dict_validation['regret']}\n",
    "            \n",
    "            return {\"loss\":dict_train['loss'].item(),\"regret\":dict_train['regret']}\n",
    "\n",
    "    def predict(self, x_test):\n",
    "        qids = np.array(x_test[:,0], dtype=int) # qid column\n",
    "        x_test = x_test[:,1:] # drop qid column\n",
    "        \n",
    "        # scale data?\n",
    "        if self.doScale:\n",
    "            x_test = self.scaler.transform(x_test)\n",
    "\n",
    "        trch_X = torch.from_numpy(x_test).float()\n",
    "        pred = self.model(Variable(trch_X))\n",
    "        return pred.data.numpy().T[0] # as numpy array (transpose)\n",
    "    def predit_knapsack(self, x_test):\n",
    "        qids = np.array(x_test[:,0], dtype=int) # qid column\n",
    "        x_test = x_test[:,1:] # drop qid column\n",
    "\n",
    "        # scale data?\n",
    "        if self.doScale:\n",
    "            x_test = self.scaler.transform(x_test)\n",
    "\n",
    "        trch_X = torch.from_numpy(x_test).float()\n",
    "        n_items = self.n_items\n",
    "        n_knapsacks = len(trch_X)//n_items\n",
    "        capacity = self.capacity\n",
    "\n",
    "        knapsack_nrs = [x for x in range(n_knapsacks)]\n",
    "        pred = []\n",
    "        for kn_nr in knapsack_nrs:\n",
    "            V_pred = get_profits_pred(self.model, trch_X, kn_nr, n_items)\n",
    "            sol_pred = get_kn_indicators(V_pred, capacity, weights=self.weights,use_dp=True)\n",
    "            pred.append(sol_pred)\n",
    "        return np.array(pred)\n",
    "\n",
    "    def test_score(self,x_test,y_test):\n",
    "        qids = np.array(x_test[:,0],dtype=int)\n",
    "        x_test = x_test[:,1:] # drop qid column\n",
    "        # scale data?\n",
    "        if self.doScale:\n",
    "            x_test = self.scaler.transform(x_test)\n",
    "        trch_X = torch.from_numpy(x_test).float()\n",
    "        trch_y = torch.from_numpy(np.array([y_test]).T).float()\n",
    "        n_items = self.n_items\n",
    "        n_knapsacks = len(trch_X)//n_items\n",
    " \n",
    "        dict_test = test_fwd(self.model, self.criterion, trch_X, trch_y, n_items, self.jobs)\n",
    "\n",
    "        return {\"loss\":dict_test['loss'].item(),\"regret\":dict_test['regret'],\"confusion_matrix\": dict_test['confusion_matrix']}\n"
   ]
  },
  {
   "cell_type": "code",
   "execution_count": 1,
   "metadata": {},
   "outputs": [],
   "source": [
    "import time\n",
    "from datetime import datetime"
   ]
  },
  {
   "cell_type": "code",
   "execution_count": 2,
   "metadata": {},
   "outputs": [
    {
     "ename": "NameError",
     "evalue": "name 'get_energy' is not defined",
     "output_type": "error",
     "traceback": [
      "\u001b[0;31m---------------------------------------------------------------------------\u001b[0m",
      "\u001b[0;31mNameError\u001b[0m                                 Traceback (most recent call last)",
      "\u001b[0;32m<ipython-input-2-2e3ef31a2715>\u001b[0m in \u001b[0;36m<module>\u001b[0;34m\u001b[0m\n\u001b[1;32m      1\u001b[0m \u001b[0;32mimport\u001b[0m \u001b[0mitertools\u001b[0m\u001b[0;34m\u001b[0m\u001b[0;34m\u001b[0m\u001b[0m\n\u001b[0;32m----> 2\u001b[0;31m \u001b[0;34m(\u001b[0m\u001b[0mX_1gtrain\u001b[0m\u001b[0;34m,\u001b[0m \u001b[0my_train\u001b[0m\u001b[0;34m,\u001b[0m \u001b[0mX_1gtest\u001b[0m\u001b[0;34m,\u001b[0m \u001b[0my_test\u001b[0m\u001b[0;34m)\u001b[0m \u001b[0;34m=\u001b[0m \u001b[0mget_energy\u001b[0m\u001b[0;34m(\u001b[0m\u001b[0;34m)\u001b[0m\u001b[0;34m\u001b[0m\u001b[0;34m\u001b[0m\u001b[0m\n\u001b[0m",
      "\u001b[0;31mNameError\u001b[0m: name 'get_energy' is not defined"
     ]
    }
   ],
   "source": [
    "import itertools\n",
    "(X_1gtrain, y_train, X_1gtest, y_test) = get_energy()"
   ]
  },
  {
   "cell_type": "code",
   "execution_count": 7,
   "metadata": {},
   "outputs": [
    {
     "data": {
      "text/plain": [
       "(11376, 9)"
      ]
     },
     "execution_count": 7,
     "metadata": {},
     "output_type": "execute_result"
    }
   ],
   "source": [
    "X_1gt.shape"
   ]
  },
  {
   "cell_type": "code",
   "execution_count": 21,
   "metadata": {},
   "outputs": [],
   "source": [
    "clf = Pytorch_regression(jobs= [4],epochs=10,lr=0.1)"
   ]
  },
  {
   "cell_type": "code",
   "execution_count": 20,
   "metadata": {},
   "outputs": [
    {
     "ename": "AttributeError",
     "evalue": "'NoneType' object has no attribute 'parameters'",
     "output_type": "error",
     "traceback": [
      "\u001b[0;31m---------------------------------------------------------------------------\u001b[0m",
      "\u001b[0;31mAttributeError\u001b[0m                            Traceback (most recent call last)",
      "\u001b[0;32m<ipython-input-20-d72c23d95cab>\u001b[0m in \u001b[0;36m<module>\u001b[0;34m\u001b[0m\n\u001b[0;32m----> 1\u001b[0;31m \u001b[0mclf\u001b[0m\u001b[0;34m.\u001b[0m\u001b[0mmodel\u001b[0m\u001b[0;34m.\u001b[0m\u001b[0mparameters\u001b[0m\u001b[0;34m\u001b[0m\u001b[0;34m\u001b[0m\u001b[0m\n\u001b[0m",
      "\u001b[0;31mAttributeError\u001b[0m: 'NoneType' object has no attribute 'parameters'"
     ]
    }
   ],
   "source": [
    "clf.model.parameters"
   ]
  },
  {
   "cell_type": "code",
   "execution_count": 9,
   "metadata": {},
   "outputs": [
    {
     "name": "stdout",
     "output_type": "stream",
     "text": [
      "ERROR HAPPENED!\n",
      "\n",
      "[449526937600000000, 425062195200000000, 407515673600000000, 392807424000000000, 380355686400000000, 375180288000000000, 371155404800000000, 368776371200000000, 369282329600000000, 371904640000000000, 375749580800000000, 385961062400000000, 404509388800000000, 441566105600000000, 484679065600000000, 531735296000000000, 567081267200000000, 584651110400000000, 604333056000000000, 622673356800000000, 632507392000000000, 638169907200000000, 646912921600000000, 653866393600000000, 662161715200000000, 669212876800000000, 666866739200000000, 654706329600000000, 657838899200000000, 664836403200000000, 670313011200000000, 677257574400000000, 687890432000000000, 712615628800000000, 752232857600000000, 786283673600000000, 784784793600000000, 767039795200000000, 742730393600000000, 726295756800000000, 698675507200000000, 676215296000000000, 659768473600000000, 627737292800000000, 601412198400000000, 569674752000000000, 539412480000000000, 522785792000000000]\n"
     ]
    }
   ],
   "source": [
    "price= [449526937600000000, 425062195200000000, 407515673600000000, 392807424000000000, 380355686400000000, 375180288000000000, 371155404800000000, 368776371200000000, 369282329600000000, 371904640000000000, 375749580800000000, 385961062400000000, 404509388800000000, 441566105600000000, 484679065600000000, 531735296000000000, 567081267200000000, 584651110400000000, 604333056000000000, 622673356800000000, 632507392000000000, 638169907200000000, 646912921600000000, 653866393600000000, 662161715200000000, 669212876800000000, 666866739200000000, 654706329600000000, 657838899200000000, 664836403200000000, 670313011200000000, 677257574400000000, 687890432000000000, 712615628800000000, 752232857600000000, 786283673600000000, 784784793600000000, 767039795200000000, 742730393600000000, 726295756800000000, 698675507200000000, 676215296000000000, 659768473600000000, 627737292800000000, 601412198400000000, 569674752000000000, 539412480000000000, 522785792000000000]\n",
    "\n",
    "price = [p/1e+8 for p in price]\n",
    "cost_minimize(price,[4])"
   ]
  },
  {
   "cell_type": "code",
   "execution_count": 22,
   "metadata": {},
   "outputs": [],
   "source": [
    "clf.fit(X_1gtrain,y_train)"
   ]
  },
  {
   "cell_type": "code",
   "execution_count": 23,
   "metadata": {},
   "outputs": [
    {
     "data": {
      "text/plain": [
       "array([44.799522, 42.654385, 40.945137, ..., 42.99395 , 39.673035,\n",
       "       29.979073], dtype=float32)"
      ]
     },
     "execution_count": 23,
     "metadata": {},
     "output_type": "execute_result"
    }
   ],
   "source": [
    "clf.predict(X_1gtrain)"
   ]
  },
  {
   "cell_type": "code",
   "execution_count": 29,
   "metadata": {},
   "outputs": [
    {
     "ename": "ValueError",
     "evalue": "cannot convert float NaN to integer",
     "output_type": "error",
     "traceback": [
      "\u001b[0;31m---------------------------------------------------------------------------\u001b[0m",
      "\u001b[0;31mValueError\u001b[0m                                Traceback (most recent call last)",
      "\u001b[0;32m<ipython-input-29-22d66456ab53>\u001b[0m in \u001b[0;36m<module>\u001b[0;34m\u001b[0m\n\u001b[0;32m----> 1\u001b[0;31m \u001b[0mclf\u001b[0m\u001b[0;34m.\u001b[0m\u001b[0mtest_score\u001b[0m\u001b[0;34m(\u001b[0m\u001b[0mX_1gtest\u001b[0m\u001b[0;34m,\u001b[0m\u001b[0my_test\u001b[0m\u001b[0;34m)\u001b[0m\u001b[0;34m\u001b[0m\u001b[0;34m\u001b[0m\u001b[0m\n\u001b[0m",
      "\u001b[0;32m<ipython-input-18-af61875b5dbc>\u001b[0m in \u001b[0;36mtest_score\u001b[0;34m(self, x_test, y_test)\u001b[0m\n\u001b[1;32m    193\u001b[0m         \u001b[0mn_knapsacks\u001b[0m \u001b[0;34m=\u001b[0m \u001b[0mlen\u001b[0m\u001b[0;34m(\u001b[0m\u001b[0mtrch_X\u001b[0m\u001b[0;34m)\u001b[0m\u001b[0;34m//\u001b[0m\u001b[0mn_items\u001b[0m\u001b[0;34m\u001b[0m\u001b[0;34m\u001b[0m\u001b[0m\n\u001b[1;32m    194\u001b[0m \u001b[0;34m\u001b[0m\u001b[0m\n\u001b[0;32m--> 195\u001b[0;31m         \u001b[0mdict_test\u001b[0m \u001b[0;34m=\u001b[0m \u001b[0mtest_fwd\u001b[0m\u001b[0;34m(\u001b[0m\u001b[0mself\u001b[0m\u001b[0;34m.\u001b[0m\u001b[0mmodel\u001b[0m\u001b[0;34m,\u001b[0m \u001b[0mself\u001b[0m\u001b[0;34m.\u001b[0m\u001b[0mcriterion\u001b[0m\u001b[0;34m,\u001b[0m \u001b[0mtrch_X\u001b[0m\u001b[0;34m,\u001b[0m \u001b[0mtrch_y\u001b[0m\u001b[0;34m,\u001b[0m \u001b[0mn_items\u001b[0m\u001b[0;34m,\u001b[0m \u001b[0mself\u001b[0m\u001b[0;34m.\u001b[0m\u001b[0mjobs\u001b[0m\u001b[0;34m)\u001b[0m\u001b[0;34m\u001b[0m\u001b[0;34m\u001b[0m\u001b[0m\n\u001b[0m\u001b[1;32m    196\u001b[0m \u001b[0;34m\u001b[0m\u001b[0m\n\u001b[1;32m    197\u001b[0m         \u001b[0;32mreturn\u001b[0m \u001b[0;34m{\u001b[0m\u001b[0;34m\"loss\"\u001b[0m\u001b[0;34m:\u001b[0m\u001b[0mdict_test\u001b[0m\u001b[0;34m[\u001b[0m\u001b[0;34m'loss'\u001b[0m\u001b[0;34m]\u001b[0m\u001b[0;34m.\u001b[0m\u001b[0mitem\u001b[0m\u001b[0;34m(\u001b[0m\u001b[0;34m)\u001b[0m\u001b[0;34m,\u001b[0m\u001b[0;34m\"regret\"\u001b[0m\u001b[0;34m:\u001b[0m\u001b[0mdict_test\u001b[0m\u001b[0;34m[\u001b[0m\u001b[0;34m'regret'\u001b[0m\u001b[0;34m]\u001b[0m\u001b[0;34m,\u001b[0m\u001b[0;34m\"confusion_matrix\"\u001b[0m\u001b[0;34m:\u001b[0m \u001b[0mdict_test\u001b[0m\u001b[0;34m[\u001b[0m\u001b[0;34m'confusion_matrix'\u001b[0m\u001b[0;34m]\u001b[0m\u001b[0;34m}\u001b[0m\u001b[0;34m\u001b[0m\u001b[0;34m\u001b[0m\u001b[0m\n",
      "\u001b[0;32m~/Documents/Projects/knapsack/KnapsackSPO/Energy Cost/energy_cost.py\u001b[0m in \u001b[0;36mtest_fwd\u001b[0;34m(model, criterion, trch_X, trch_y, n_items, jobs)\u001b[0m\n\u001b[1;32m    151\u001b[0m \u001b[0;34m\u001b[0m\u001b[0m\n\u001b[1;32m    152\u001b[0m         \u001b[0msol_true\u001b[0m \u001b[0;34m=\u001b[0m \u001b[0mget_energy_indicators\u001b[0m\u001b[0;34m(\u001b[0m\u001b[0mV_true\u001b[0m\u001b[0;34m,\u001b[0m\u001b[0mjobs\u001b[0m\u001b[0;34m)\u001b[0m\u001b[0;34m\u001b[0m\u001b[0;34m\u001b[0m\u001b[0m\n\u001b[0;32m--> 153\u001b[0;31m         \u001b[0msol_pred\u001b[0m \u001b[0;34m=\u001b[0m \u001b[0mget_energy_indicators\u001b[0m\u001b[0;34m(\u001b[0m\u001b[0mV_pred\u001b[0m\u001b[0;34m,\u001b[0m\u001b[0mjobs\u001b[0m\u001b[0;34m)\u001b[0m\u001b[0;34m\u001b[0m\u001b[0;34m\u001b[0m\u001b[0m\n\u001b[0m\u001b[1;32m    154\u001b[0m         \u001b[0mregret\u001b[0m\u001b[0;34m[\u001b[0m\u001b[0mkn_nr\u001b[0m\u001b[0;34m]\u001b[0m \u001b[0;34m=\u001b[0m \u001b[0msum\u001b[0m\u001b[0;34m(\u001b[0m\u001b[0mV_true\u001b[0m\u001b[0;34m*\u001b[0m\u001b[0;34m(\u001b[0m\u001b[0msol_pred\u001b[0m \u001b[0;34m-\u001b[0m \u001b[0msol_true\u001b[0m\u001b[0;34m)\u001b[0m\u001b[0;34m)\u001b[0m\u001b[0;34m\u001b[0m\u001b[0;34m\u001b[0m\u001b[0m\n\u001b[1;32m    155\u001b[0m         \u001b[0mcf\u001b[0m \u001b[0;34m=\u001b[0m \u001b[0mconfusion_matrix\u001b[0m\u001b[0;34m(\u001b[0m\u001b[0msol_true\u001b[0m\u001b[0;34m,\u001b[0m \u001b[0msol_pred\u001b[0m\u001b[0;34m,\u001b[0m\u001b[0mlabels\u001b[0m\u001b[0;34m=\u001b[0m\u001b[0;34m[\u001b[0m\u001b[0;36m0\u001b[0m\u001b[0;34m,\u001b[0m\u001b[0;36m1\u001b[0m\u001b[0;34m]\u001b[0m\u001b[0;34m)\u001b[0m\u001b[0;34m\u001b[0m\u001b[0;34m\u001b[0m\u001b[0m\n",
      "\u001b[0;32m~/Documents/Projects/knapsack/KnapsackSPO/Energy Cost/energy_cost.py\u001b[0m in \u001b[0;36mget_energy_indicators\u001b[0;34m(price, jobs)\u001b[0m\n\u001b[1;32m     86\u001b[0m         \u001b[0mprint\u001b[0m\u001b[0;34m(\u001b[0m\u001b[0;34m\"ERROR HAPPENED!\\n\"\u001b[0m\u001b[0;34m)\u001b[0m\u001b[0;34m\u001b[0m\u001b[0;34m\u001b[0m\u001b[0m\n\u001b[1;32m     87\u001b[0m \u001b[0;32mdef\u001b[0m \u001b[0mget_energy_indicators\u001b[0m\u001b[0;34m(\u001b[0m\u001b[0mprice\u001b[0m\u001b[0;34m,\u001b[0m\u001b[0mjobs\u001b[0m\u001b[0;34m)\u001b[0m\u001b[0;34m:\u001b[0m\u001b[0;34m\u001b[0m\u001b[0;34m\u001b[0m\u001b[0m\n\u001b[0;32m---> 88\u001b[0;31m     \u001b[0;32mreturn\u001b[0m \u001b[0mnp\u001b[0m\u001b[0;34m.\u001b[0m\u001b[0marray\u001b[0m\u001b[0;34m(\u001b[0m \u001b[0mcost_minimize\u001b[0m\u001b[0;34m(\u001b[0m\u001b[0mprice\u001b[0m\u001b[0;34m,\u001b[0m\u001b[0mjobs\u001b[0m\u001b[0;34m)\u001b[0m\u001b[0;34m[\u001b[0m\u001b[0;34m'assignments'\u001b[0m\u001b[0;34m]\u001b[0m\u001b[0;34m[\u001b[0m\u001b[0;36m0\u001b[0m\u001b[0;34m]\u001b[0m\u001b[0;34m)\u001b[0m\u001b[0;34m\u001b[0m\u001b[0;34m\u001b[0m\u001b[0m\n\u001b[0m\u001b[1;32m     89\u001b[0m \u001b[0;32mdef\u001b[0m \u001b[0mget_profits\u001b[0m\u001b[0;34m(\u001b[0m\u001b[0mtrch_y\u001b[0m\u001b[0;34m,\u001b[0m \u001b[0mkn_nr\u001b[0m\u001b[0;34m,\u001b[0m \u001b[0mn_items\u001b[0m\u001b[0;34m)\u001b[0m\u001b[0;34m:\u001b[0m\u001b[0;34m\u001b[0m\u001b[0;34m\u001b[0m\u001b[0m\n\u001b[1;32m     90\u001b[0m     \u001b[0mkn_start\u001b[0m \u001b[0;34m=\u001b[0m \u001b[0mkn_nr\u001b[0m\u001b[0;34m*\u001b[0m\u001b[0mn_items\u001b[0m\u001b[0;34m\u001b[0m\u001b[0;34m\u001b[0m\u001b[0m\n",
      "\u001b[0;32m~/Documents/Projects/knapsack/KnapsackSPO/Energy Cost/energy_cost.py\u001b[0m in \u001b[0;36mcost_minimize\u001b[0;34m(price, jobs)\u001b[0m\n\u001b[1;32m     58\u001b[0m     \u001b[0mmachine_start\u001b[0m \u001b[0;34m=\u001b[0m \u001b[0;34m{\u001b[0m\u001b[0;34m}\u001b[0m\u001b[0;34m\u001b[0m\u001b[0;34m\u001b[0m\u001b[0m\n\u001b[1;32m     59\u001b[0m     \u001b[0mmultiplier\u001b[0m \u001b[0;34m=\u001b[0m \u001b[0;36m1e+8\u001b[0m\u001b[0;34m\u001b[0m\u001b[0;34m\u001b[0m\u001b[0m\n\u001b[0;32m---> 60\u001b[0;31m     \u001b[0mprice\u001b[0m \u001b[0;34m=\u001b[0m \u001b[0;34m[\u001b[0m\u001b[0mint\u001b[0m\u001b[0;34m(\u001b[0m\u001b[0mv\u001b[0m\u001b[0;34m*\u001b[0m\u001b[0mmultiplier\u001b[0m\u001b[0;34m)\u001b[0m \u001b[0;32mfor\u001b[0m \u001b[0mv\u001b[0m \u001b[0;32min\u001b[0m \u001b[0mprice\u001b[0m\u001b[0;34m]\u001b[0m\u001b[0;34m\u001b[0m\u001b[0;34m\u001b[0m\u001b[0m\n\u001b[0m\u001b[1;32m     61\u001b[0m     \u001b[0;32mfor\u001b[0m \u001b[0mjob\u001b[0m \u001b[0;32min\u001b[0m \u001b[0mall_jobs\u001b[0m\u001b[0;34m:\u001b[0m\u001b[0;34m\u001b[0m\u001b[0;34m\u001b[0m\u001b[0m\n\u001b[1;32m     62\u001b[0m         \u001b[0;32mfor\u001b[0m  \u001b[0md\u001b[0m \u001b[0;32min\u001b[0m \u001b[0mhorizon\u001b[0m\u001b[0;34m:\u001b[0m\u001b[0;34m\u001b[0m\u001b[0;34m\u001b[0m\u001b[0m\n",
      "\u001b[0;32m~/Documents/Projects/knapsack/KnapsackSPO/Energy Cost/energy_cost.py\u001b[0m in \u001b[0;36m<listcomp>\u001b[0;34m(.0)\u001b[0m\n\u001b[1;32m     58\u001b[0m     \u001b[0mmachine_start\u001b[0m \u001b[0;34m=\u001b[0m \u001b[0;34m{\u001b[0m\u001b[0;34m}\u001b[0m\u001b[0;34m\u001b[0m\u001b[0;34m\u001b[0m\u001b[0m\n\u001b[1;32m     59\u001b[0m     \u001b[0mmultiplier\u001b[0m \u001b[0;34m=\u001b[0m \u001b[0;36m1e+8\u001b[0m\u001b[0;34m\u001b[0m\u001b[0;34m\u001b[0m\u001b[0m\n\u001b[0;32m---> 60\u001b[0;31m     \u001b[0mprice\u001b[0m \u001b[0;34m=\u001b[0m \u001b[0;34m[\u001b[0m\u001b[0mint\u001b[0m\u001b[0;34m(\u001b[0m\u001b[0mv\u001b[0m\u001b[0;34m*\u001b[0m\u001b[0mmultiplier\u001b[0m\u001b[0;34m)\u001b[0m \u001b[0;32mfor\u001b[0m \u001b[0mv\u001b[0m \u001b[0;32min\u001b[0m \u001b[0mprice\u001b[0m\u001b[0;34m]\u001b[0m\u001b[0;34m\u001b[0m\u001b[0;34m\u001b[0m\u001b[0m\n\u001b[0m\u001b[1;32m     61\u001b[0m     \u001b[0;32mfor\u001b[0m \u001b[0mjob\u001b[0m \u001b[0;32min\u001b[0m \u001b[0mall_jobs\u001b[0m\u001b[0;34m:\u001b[0m\u001b[0;34m\u001b[0m\u001b[0;34m\u001b[0m\u001b[0m\n\u001b[1;32m     62\u001b[0m         \u001b[0;32mfor\u001b[0m  \u001b[0md\u001b[0m \u001b[0;32min\u001b[0m \u001b[0mhorizon\u001b[0m\u001b[0;34m:\u001b[0m\u001b[0;34m\u001b[0m\u001b[0;34m\u001b[0m\u001b[0m\n",
      "\u001b[0;31mValueError\u001b[0m: cannot convert float NaN to integer"
     ]
    }
   ],
   "source": [
    "clf.test_score(X_1gtest,y_test)"
   ]
  },
  {
   "cell_type": "code",
   "execution_count": 6,
   "metadata": {},
   "outputs": [],
   "source": [
    "SPO = SGD_SPO(jobs=[4], epochs=10,verbose=True,lr= 1e-3)"
   ]
  },
  {
   "cell_type": "code",
   "execution_count": null,
   "metadata": {},
   "outputs": [
    {
     "name": "stdout",
     "output_type": "stream",
     "text": [
      "Epoch[1/10]::50, loss: 63707848704.000000, regret(train): 16.29\n",
      "Epoch[1/10]::100, loss: 162455846912.000000, regret(train): 16.23\n",
      "Epoch[1/10]::150, loss: 386045444096.000000, regret(train): 16.24\n",
      "Epoch[1/10]::200, loss: 594717900800.000000, regret(train): 16.23\n",
      "Epoch[1/10]::250, loss: 859895824384.000000, regret(train): 16.21\n",
      "Epoch[1/10]::300, loss: 1189212979200.000000, regret(train): 16.26\n",
      "Epoch[1/10]::350, loss: 1806892138496.000000, regret(train): 16.24\n",
      "Epoch[1/10]::400, loss: 2351595520000.000000, regret(train): 16.15\n",
      "Epoch[1/10]::450, loss: 3169707884544.000000, regret(train): 16.21\n",
      "Epoch[1/10]::500, loss: 3817445785600.000000, regret(train): 16.21\n",
      "Epoch[1/10]::550, loss: 4749238206464.000000, regret(train): 16.28\n",
      "Epoch[2/10]::50, loss: 5202888884224.000000, regret(train): 16.24\n",
      "Epoch[2/10]::100, loss: 6359834689536.000000, regret(train): 16.15\n",
      "Epoch[2/10]::150, loss: 7378356928512.000000, regret(train): 16.21\n",
      "Epoch[2/10]::200, loss: 8180350844928.000000, regret(train): 16.26\n",
      "Epoch[2/10]::250, loss: 9410250276864.000000, regret(train): 16.26\n",
      "Epoch[2/10]::300, loss: 10376374648832.000000, regret(train): 16.24\n",
      "Epoch[2/10]::350, loss: 12059773239296.000000, regret(train): 16.30\n",
      "Epoch[2/10]::400, loss: 13827732144128.000000, regret(train): 16.28\n",
      "Epoch[2/10]::450, loss: 15244707495936.000000, regret(train): 16.28\n",
      "Epoch[2/10]::500, loss: 17472559251456.000000, regret(train): 16.28\n",
      "Epoch[2/10]::550, loss: 18932192772096.000000, regret(train): 16.26\n",
      "Epoch[3/10]::50, loss: 20645807128576.000000, regret(train): 16.28\n",
      "Epoch[3/10]::100, loss: 22008498749440.000000, regret(train): 16.28\n",
      "Epoch[3/10]::150, loss: 23522980134912.000000, regret(train): 16.28\n",
      "Epoch[3/10]::200, loss: 25384221409280.000000, regret(train): 16.28\n",
      "Epoch[3/10]::250, loss: 27982099906560.000000, regret(train): 16.28\n",
      "Epoch[3/10]::300, loss: 30722591031296.000000, regret(train): 16.26\n",
      "Epoch[3/10]::350, loss: 33760672219136.000000, regret(train): 16.30\n",
      "Epoch[3/10]::400, loss: 35704310595584.000000, regret(train): 16.28\n",
      "Epoch[3/10]::450, loss: 37699171909632.000000, regret(train): 16.28\n",
      "Epoch[3/10]::500, loss: 40037857099776.000000, regret(train): 16.28\n",
      "Epoch[3/10]::550, loss: 42796228542464.000000, regret(train): 16.28\n",
      "Epoch[4/10]::50, loss: 45658631307264.000000, regret(train): 16.26\n",
      "Epoch[4/10]::100, loss: 48565795684352.000000, regret(train): 16.26\n",
      "Epoch[4/10]::150, loss: 51625003581440.000000, regret(train): 16.25\n",
      "Epoch[4/10]::200, loss: 53722625343488.000000, regret(train): 16.24\n",
      "Epoch[4/10]::250, loss: 57688226529280.000000, regret(train): 16.21\n",
      "Epoch[4/10]::300, loss: 60181203386368.000000, regret(train): 16.24\n",
      "Epoch[4/10]::350, loss: 62945618821120.000000, regret(train): 16.24\n",
      "Epoch[4/10]::400, loss: 65195883888640.000000, regret(train): 16.21\n",
      "Epoch[4/10]::450, loss: 67368646606848.000000, regret(train): 16.24\n",
      "Epoch[4/10]::500, loss: 72140124585984.000000, regret(train): 16.25\n",
      "Epoch[4/10]::550, loss: 76016970104832.000000, regret(train): 16.26\n",
      "Epoch[5/10]::50, loss: 80352093667328.000000, regret(train): 16.26\n",
      "Epoch[5/10]::100, loss: 84488340111360.000000, regret(train): 16.28\n",
      "Epoch[5/10]::150, loss: 88232461074432.000000, regret(train): 16.26\n",
      "Epoch[5/10]::200, loss: 94165740290048.000000, regret(train): 16.26\n",
      "Epoch[5/10]::250, loss: 97253872107520.000000, regret(train): 16.26\n",
      "Epoch[5/10]::300, loss: 100374249734144.000000, regret(train): 16.26\n",
      "Epoch[5/10]::350, loss: 102925242204160.000000, regret(train): 16.26\n",
      "Epoch[5/10]::400, loss: 106574748057600.000000, regret(train): 16.26\n",
      "Epoch[5/10]::450, loss: 110898765103104.000000, regret(train): 16.26\n",
      "Epoch[5/10]::500, loss: 114383510306816.000000, regret(train): 16.26\n",
      "Epoch[5/10]::550, loss: 118202365378560.000000, regret(train): 16.26\n",
      "Epoch[6/10]::50, loss: 122550214459392.000000, regret(train): 16.26\n",
      "Epoch[6/10]::100, loss: 128069985632256.000000, regret(train): 16.26\n",
      "Epoch[6/10]::150, loss: 132279305240576.000000, regret(train): 16.26\n",
      "Epoch[6/10]::200, loss: 135373543964672.000000, regret(train): 16.26\n",
      "Epoch[6/10]::250, loss: 139189169422336.000000, regret(train): 16.24\n",
      "Epoch[6/10]::300, loss: 144907180179456.000000, regret(train): 16.26\n",
      "Epoch[6/10]::350, loss: 149980056649728.000000, regret(train): 16.26\n",
      "Epoch[6/10]::400, loss: 154507170283520.000000, regret(train): 16.26\n",
      "Epoch[6/10]::450, loss: 159583368642560.000000, regret(train): 16.26\n",
      "Epoch[6/10]::500, loss: 166031356067840.000000, regret(train): 16.28\n",
      "Epoch[6/10]::550, loss: 170952767832064.000000, regret(train): 16.26\n",
      "Epoch[7/10]::50, loss: 176353001340928.000000, regret(train): 16.28\n",
      "Epoch[7/10]::100, loss: 180100444192768.000000, regret(train): 16.26\n",
      "Epoch[7/10]::150, loss: 184941795082240.000000, regret(train): 16.26\n",
      "Epoch[7/10]::200, loss: 190363352432640.000000, regret(train): 16.28\n",
      "Epoch[7/10]::250, loss: 198275873374208.000000, regret(train): 16.28\n",
      "Epoch[7/10]::300, loss: 203866394066944.000000, regret(train): 16.26\n",
      "Epoch[7/10]::350, loss: 210836085800960.000000, regret(train): 16.28\n",
      "Epoch[7/10]::400, loss: 215302197477376.000000, regret(train): 16.26\n"
     ]
    }
   ],
   "source": [
    "SPO.fit(X_1gtrain,y_train)"
   ]
  },
  {
   "cell_type": "code",
   "execution_count": 1,
   "metadata": {},
   "outputs": [
    {
     "ename": "NameError",
     "evalue": "name 'SPO' is not defined",
     "output_type": "error",
     "traceback": [
      "\u001b[0;31m---------------------------------------------------------------------------\u001b[0m",
      "\u001b[0;31mNameError\u001b[0m                                 Traceback (most recent call last)",
      "\u001b[0;32m<ipython-input-1-d25e7405aab8>\u001b[0m in \u001b[0;36m<module>\u001b[0;34m\u001b[0m\n\u001b[0;32m----> 1\u001b[0;31m \u001b[0mSPO\u001b[0m\u001b[0;34m.\u001b[0m\u001b[0mtest_score\u001b[0m\u001b[0;34m(\u001b[0m\u001b[0mX_1gtest\u001b[0m\u001b[0;34m,\u001b[0m\u001b[0my_test\u001b[0m\u001b[0;34m)\u001b[0m\u001b[0;34m\u001b[0m\u001b[0;34m\u001b[0m\u001b[0m\n\u001b[0m",
      "\u001b[0;31mNameError\u001b[0m: name 'SPO' is not defined"
     ]
    }
   ],
   "source": [
    "SPO.test_score(X_1gtest,y_test)"
   ]
  },
  {
   "cell_type": "code",
   "execution_count": 1,
   "metadata": {},
   "outputs": [],
   "source": [
    "from energy_cost import *"
   ]
  },
  {
   "cell_type": "code",
   "execution_count": 15,
   "metadata": {},
   "outputs": [
    {
     "data": {
      "text/plain": [
       "array([1, 1, 1, 1, 1, 1, 0, 0, 0, 0, 0, 0, 0, 0, 0, 0, 0, 0, 0, 0, 0, 0,\n",
       "       0, 0, 0, 0, 0, 0, 0, 0, 0, 0, 0, 0, 0, 0, 0, 0, 0, 0, 0, 0, 0, 0,\n",
       "       0, 0, 0, 0, 0, 0, 0, 0, 0, 0, 0, 0, 0, 0, 0, 0, 0, 0, 0, 0, 0, 0,\n",
       "       0, 0, 0, 0, 0, 0, 0, 0, 0, 0, 0, 0, 0, 0, 0])"
      ]
     },
     "execution_count": 15,
     "metadata": {},
     "output_type": "execute_result"
    }
   ],
   "source": [
    "get_energy_indicators(y_train[103:184],[6])"
   ]
  },
  {
   "cell_type": "code",
   "execution_count": 3,
   "metadata": {},
   "outputs": [],
   "source": [
    "profits = [1, 2, 3, 4, 5, 6, 7, 8, 9]\n",
    "\n",
    "weights = [ [1, 2, 3, 4, 5, 6, 7, 8, 9],\n",
    "                                 [1, 1, 1, 1, 1, 1, 1, 1, 1]]\n",
    "capacities = [34, 4]"
   ]
  },
  {
   "cell_type": "code",
   "execution_count": 7,
   "metadata": {},
   "outputs": [
    {
     "ename": "AttributeError",
     "evalue": "module 'ortools.algorithms.pywrapknapsack_solver' has no attribute 'KnapsackSolve'",
     "output_type": "error",
     "traceback": [
      "\u001b[0;31m---------------------------------------------------------------------------\u001b[0m",
      "\u001b[0;31mAttributeError\u001b[0m                            Traceback (most recent call last)",
      "\u001b[0;32m<ipython-input-7-ed34899379f5>\u001b[0m in \u001b[0;36m<module>\u001b[0;34m\u001b[0m\n\u001b[1;32m      1\u001b[0m \u001b[0;32mfrom\u001b[0m \u001b[0mortools\u001b[0m\u001b[0;34m.\u001b[0m\u001b[0malgorithms\u001b[0m \u001b[0;32mimport\u001b[0m \u001b[0mpywrapknapsack_solver\u001b[0m\u001b[0;34m\u001b[0m\u001b[0;34m\u001b[0m\u001b[0m\n\u001b[0;32m----> 2\u001b[0;31m solver= pywrapknapsack_solver.KnapsackSolver(pywrapknapsack_solver.KnapsackSolve.KNAPSACK_MULTIDIMENSION_SOLVER,\n\u001b[0m\u001b[1;32m      3\u001b[0m                          \"Multi-dimensional solver\");\n",
      "\u001b[0;31mAttributeError\u001b[0m: module 'ortools.algorithms.pywrapknapsack_solver' has no attribute 'KnapsackSolve'"
     ]
    }
   ],
   "source": [
    "from ortools.algorithms import pywrapknapsack_solver\n",
    "solver= pywrapknapsack_solver.KnapsackSolver(pywrapknapsack_solver.KnapsackSolve.KNAPSACK_MULTIDIMENSION_SOLVER,\n",
    "                         \"Multi-dimensional solver\");"
   ]
  },
  {
   "cell_type": "code",
   "execution_count": 11,
   "metadata": {},
   "outputs": [],
   "source": [
    "solver = pywrapknapsack_solver.KnapsackSolver(\n",
    "      pywrapknapsack_solver.KnapsackSolver.\n",
    "       KNAPSACK_MULTIDIMENSION_CBC_MIP_SOLVER,\n",
    "      'test')"
   ]
  },
  {
   "cell_type": "code",
   "execution_count": 17,
   "metadata": {},
   "outputs": [],
   "source": [
    "solver.Init(profits, weights, capacities)\n",
    "computed_value = solver.Solve()\n"
   ]
  },
  {
   "cell_type": "code",
   "execution_count": 18,
   "metadata": {},
   "outputs": [
    {
     "data": {
      "text/plain": [
       "30"
      ]
     },
     "execution_count": 18,
     "metadata": {},
     "output_type": "execute_result"
    }
   ],
   "source": [
    "computed_value"
   ]
  },
  {
   "cell_type": "code",
   "execution_count": 15,
   "metadata": {},
   "outputs": [
    {
     "data": {
      "text/plain": [
       "[0, 0, 0, 0, 0, 1, 1, 1, 1]"
      ]
     },
     "execution_count": 15,
     "metadata": {},
     "output_type": "execute_result"
    }
   ],
   "source": [
    "[int(solver.BestSolutionContains(x)) for x in range(len(profits))]"
   ]
  },
  {
   "cell_type": "code",
   "execution_count": 28,
   "metadata": {},
   "outputs": [
    {
     "data": {
      "text/plain": [
       "[0.1, 0.01, 0.001, 0.0001, 1e-05]"
      ]
     },
     "execution_count": 28,
     "metadata": {},
     "output_type": "execute_result"
    }
   ],
   "source": [
    "[10**(-i) for i in range(1,7)]"
   ]
  },
  {
   "cell_type": "code",
   "execution_count": 26,
   "metadata": {},
   "outputs": [
    {
     "data": {
      "text/plain": [
       "0.01"
      ]
     },
     "execution_count": 26,
     "metadata": {},
     "output_type": "execute_result"
    }
   ],
   "source": [
    "1e-2"
   ]
  },
  {
   "cell_type": "code",
   "execution_count": 4,
   "metadata": {},
   "outputs": [],
   "source": [
    "y = [i for i in range(48)]"
   ]
  },
  {
   "cell_type": "code",
   "execution_count": 8,
   "metadata": {},
   "outputs": [
    {
     "data": {
      "text/plain": [
       "{'objective': 21.0,\n",
       " 'assignments': [[1,\n",
       "   1,\n",
       "   1,\n",
       "   1,\n",
       "   0,\n",
       "   0,\n",
       "   0,\n",
       "   0,\n",
       "   0,\n",
       "   0,\n",
       "   0,\n",
       "   0,\n",
       "   0,\n",
       "   0,\n",
       "   0,\n",
       "   0,\n",
       "   0,\n",
       "   0,\n",
       "   0,\n",
       "   0,\n",
       "   0,\n",
       "   0,\n",
       "   0,\n",
       "   0,\n",
       "   0,\n",
       "   0,\n",
       "   0,\n",
       "   0,\n",
       "   0,\n",
       "   0,\n",
       "   0,\n",
       "   0,\n",
       "   0,\n",
       "   0,\n",
       "   0,\n",
       "   0,\n",
       "   0,\n",
       "   0,\n",
       "   0,\n",
       "   0,\n",
       "   0,\n",
       "   0,\n",
       "   0,\n",
       "   0,\n",
       "   0,\n",
       "   0,\n",
       "   0,\n",
       "   0],\n",
       "  [1,\n",
       "   1,\n",
       "   1,\n",
       "   1,\n",
       "   1,\n",
       "   1,\n",
       "   0,\n",
       "   0,\n",
       "   0,\n",
       "   0,\n",
       "   0,\n",
       "   0,\n",
       "   0,\n",
       "   0,\n",
       "   0,\n",
       "   0,\n",
       "   0,\n",
       "   0,\n",
       "   0,\n",
       "   0,\n",
       "   0,\n",
       "   0,\n",
       "   0,\n",
       "   0,\n",
       "   0,\n",
       "   0,\n",
       "   0,\n",
       "   0,\n",
       "   0,\n",
       "   0,\n",
       "   0,\n",
       "   0,\n",
       "   0,\n",
       "   0,\n",
       "   0,\n",
       "   0,\n",
       "   0,\n",
       "   0,\n",
       "   0,\n",
       "   0,\n",
       "   0,\n",
       "   0,\n",
       "   0,\n",
       "   0,\n",
       "   0,\n",
       "   0,\n",
       "   0,\n",
       "   0]]}"
      ]
     },
     "execution_count": 8,
     "metadata": {},
     "output_type": "execute_result"
    }
   ],
   "source": [
    "cost_minimize(y,[4,6])"
   ]
  },
  {
   "cell_type": "code",
   "execution_count": 63,
   "metadata": {},
   "outputs": [],
   "source": [
    "class Gurobi_ICON:\n",
    "    def __init__(self,nbMachines,nbTasks,nbResources,MC,U,D,E,L,P,idle,up,down,q,relax=False,\n",
    "        verbose=False,method=-1,obj_cut=-1,**h):\n",
    "        self.nbMachines  = nbMachines\n",
    "        self.nbTasks = nbTasks\n",
    "        self.nbResources = nbResources\n",
    "        self.MC = MC\n",
    "        self.U =  U\n",
    "        self.D = D\n",
    "        self.E = E\n",
    "        self.L = L\n",
    "        self.P = P\n",
    "        self.idle = idle\n",
    "        self.up = up\n",
    "        self.down = down\n",
    "        self.q= q\n",
    "        self.relax = relax\n",
    "        self.verbose = verbose\n",
    "        self.method = method\n",
    "        self.obj_cut = obj_cut \n",
    "        self.sol_hist = []\n",
    "        #-1 : no objective cut; 0: cut for predictions only 'true' solution; 1: use sol_hist\n",
    "        \n",
    "    def make_model(self):\n",
    "        Machines = range(self.nbMachines)\n",
    "        Tasks = range(self.nbTasks)\n",
    "        Resources = range(self.nbResources)\n",
    "\n",
    "        MC = self.MC\n",
    "        U =  self.U\n",
    "        D = self.D\n",
    "        E = self.E\n",
    "        L = self.L\n",
    "        P = self.P\n",
    "        idle = self.idle\n",
    "        up = self.up\n",
    "        down = self.down\n",
    "        relax = self.relax\n",
    "        q= self.q\n",
    "        N = 1440//q\n",
    "\n",
    "        M = Model(\"icon\")\n",
    "        if not self.verbose:\n",
    "            M.setParam('OutputFlag', 0)\n",
    "        if relax:\n",
    "            x = M.addVars(Tasks, Machines, range(N), lb=0., ub=1., vtype=GRB.CONTINUOUS, name=\"x\")\n",
    "        else:\n",
    "            x = M.addVars(Tasks, Machines, range(N), vtype=GRB.BINARY, name=\"x\")\n",
    "\n",
    "        # x = {}\n",
    "        # for f in Tasks:\n",
    "        #     for m in Machines:\n",
    "        #         for t in range(N):\n",
    "        #             if relax:\n",
    "        #                 x[(f,m,t)] = M.addVar(0.,1.,name= \"x\"+str(f)+\"_\"+str(m)+\"_\"+str(t))\n",
    "        #             else:\n",
    "        #                 x[(f,m,t)] = M.addVar(vtype=GRB.BINARY,name= \"x\"+str(f)+\"_\"+str(m)+\"_\"+str(t))\n",
    "                    \n",
    "        # earliest start time constraint\n",
    "        #M.addConstrs( (x[(f,m,t)]==0 )  for f in Tasks for m in Machines for t in range(E[f]) )\n",
    "        # latest end time constraint\n",
    "        #M.addConstrs( (x[(f,m,t)]==0 )   for f in Tasks for m in Machines for t in range(L[f]-D[f] +1,N) )\n",
    "        M.addConstrs( x.sum(f,'*',range(E[f])) == 0 for f in Tasks)\n",
    "        M.addConstrs( x.sum(f,'*',range(L[f]-D[f]+1,N)) == 0 for f in Tasks)\n",
    "\n",
    "\n",
    "\n",
    "        M.addConstrs(( quicksum(x[(f,m,t)] for t in range(N) for m in Machines) == 1  for f in Tasks))\n",
    "\n",
    "        # capacity requirement\n",
    "        for r in Resources:\n",
    "            for m in Machines:\n",
    "                for t in range(N):\n",
    "                    M.addConstr( quicksum( quicksum(x[(f,m,t1)]  for t1 in range(max(0,t-D[f]+1),t+1) )*\n",
    "                                   U[f][r] for f in Tasks) <= MC[m][r])   \n",
    "        M.update()\n",
    "        self.model = M\n",
    "        self.x = x \n",
    "\n",
    "    def solve_model(self,price,scheduling=False,warmstart=None,timelimit=None):\n",
    "        Model = self.model\n",
    "        MC = self.MC\n",
    "        U =  self.U\n",
    "        D = self.D\n",
    "        E = self.E\n",
    "        L = self.L\n",
    "        P = self.P\n",
    "        idle = self.idle\n",
    "        up = self.up\n",
    "        down = self.down\n",
    "        q= self.q\n",
    "        N = 1440//q  \n",
    "        newcut = None\n",
    "        Model.reset()\n",
    "\n",
    "        verbose = self.verbose\n",
    "        x =  self.x\n",
    "        nbMachines = self.nbMachines\n",
    "        nbTasks = self.nbTasks\n",
    "        nbResources = self.nbResources\n",
    "        Machines = range(nbMachines)\n",
    "        Tasks = range(nbTasks)\n",
    "        Resources = range(nbResources)\n",
    "        obj_expr = quicksum( (quicksum(x[f,m,t] for m in Machines)*np.sum(price[t:t+D[f]])*P[f]*q/60) \n",
    "            for f in Tasks for t in range(N-D[f]+1))\n",
    "\n",
    "        bestval = None # MINIMISATION problem!\n",
    "        if warmstart is not None and (self.obj_cut==0):\n",
    "            (pvars,dcons,solt) = warmstart\n",
    "            bestval = np.sum(solt*price)\n",
    "\n",
    "            # OLD: add Pstart/Dstart, not sure this works, make sure presolve still runs!\n",
    "            '''for i,var in enumerate(Model.getVars()):\n",
    "                var.Pstart = pvars[i]\n",
    "            for i,cons in enumerate(Model.getConstrs()):\n",
    "                cons.Dstart = dcons[i]'''\n",
    "        if (self.obj_cut==1) and (len(self.sol_hist) > 0):\n",
    "            for sol in self.sol_hist:\n",
    "                 val = np.sum(sol*price)\n",
    "                 if (bestval is None) or (val < bestval):\n",
    "                    bestval = val\n",
    "        if bestval is not  None:\n",
    "            # Minimization; make sure to remove the cut again below!!\n",
    "            newcut = Model.addConstr(obj_expr <= (bestval+1e-3), name=\"objcut\")                            \n",
    "        \n",
    "        Model.setObjective(obj_expr, GRB.MINIMIZE)\n",
    "        #Model.setObjective( quicksum( (x[(f,m,t)]*P[f]*quicksum([price[t+i] for i in range(D[f])])*q/60) for f in Tasks\n",
    "        #                for m in Machines for t in range(N-D[f]+1)), GRB.MINIMIZE)\n",
    "        if timelimit:\n",
    "            Model.setParam('TimeLimit', timelimit)\n",
    "        #if relax:\n",
    "        #    Model = Model.relax()\n",
    "        Model.setParam('Method', self.method)\n",
    "        logging.info(\"Number of constraints%d\",Model.NumConstrs)\n",
    "        Model.optimize()\n",
    "\n",
    "        solver = np.zeros(N)\n",
    "        if Model.status in [GRB.Status.OPTIMAL,9]:\n",
    "           \n",
    "                #task_on = Model.getAttr('x',x)\n",
    "                task_on = np.zeros( (nbTasks,nbMachines,N) )\n",
    "                for f in Tasks:\n",
    "                    for m in Machines:\n",
    "                        for t in range(N):\n",
    "                            task_on[f,m,t] = x[f,m,t].X\n",
    "\n",
    "                if verbose:\n",
    "                    for k,val in task_on.items():\n",
    "                        if int(val)>0:\n",
    "                            print(\"Task_%d starts on machine_%d at %d\"%(k[0],k[1],k[2]))\n",
    "                    print('\\nCost: %g' % Model.objVal)\n",
    "                    print('\\nExecution Time: %f' %Model.Runtime)\n",
    "\n",
    "                # remove cut again (modifies model)\n",
    "                if newcut is not None:\n",
    "                    Model.remove(newcut)\n",
    "                    newcut = None\n",
    "                \n",
    "                for t in range(N):        \n",
    "                    solver[t] = np.sum( np.sum(task_on[f,:,max(0,t-D[f]+1):t+1])*P[f] for f in Tasks )  \n",
    "                solver = solver*q/60\n",
    "                \n",
    "                print(sum( (sum(x[f,m,t].X for m in Machines)*np.sum(price[t:t+D[f]])*P[f]*q/60) \n",
    "            for f in Tasks for t in range(N-D[f]+1)))\n",
    "                print(Model.objVal)\n",
    "         \n",
    "                \n",
    "                schedule = np.zeros((nbTasks,nbMachines,N))\n",
    "                for f in Tasks:\n",
    "                    for m in Machines:\n",
    "                        for t in range(N):\n",
    "                                 schedule[f,m,t] = task_on[(f,m,t)]\n",
    "                return solver,schedule\n",
    "                \n",
    "\n",
    "        elif Model.status == GRB.Status.INF_OR_UNBD:\n",
    "            print('Model is infeasible or unbounded')\n",
    "        elif Model.status == GRB.Status.INFEASIBLE:\n",
    "            print('Model is infeasible')\n",
    "        elif Model.status == GRB.Status.UNBOUNDED:\n",
    "            print('Model is unbounded')\n",
    "        else:\n",
    "            print('Optimization ended with status %d' % Model.status)\n",
    "\n",
    "        # make sure cut is removed! (modifies model)\n",
    "        if newcut is not None:\n",
    "            Model.remove(newcut)\n",
    "\n",
    "        return solver,Model.Runtime   \n"
   ]
  },
  {
   "cell_type": "code",
   "execution_count": 118,
   "metadata": {},
   "outputs": [],
   "source": [
    "param = data_reading(\"load2/day13.txt\")\n",
    "Machines = range(param['nbMachines'])\n",
    "Tasks = range(param['nbTasks'])\n",
    "Resources = range(param['nbResources'])\n",
    "\n",
    "D = param['D']\n",
    "P = param['P']\n",
    "price = y_train[96:144]\n",
    "q = param['q']\n",
    "N = 1440//q"
   ]
  },
  {
   "cell_type": "code",
   "execution_count": 119,
   "metadata": {},
   "outputs": [
    {
     "name": "stdout",
     "output_type": "stream",
     "text": [
      "1661102.7726500004\n",
      "1661102.7726500002\n"
     ]
    },
    {
     "name": "stderr",
     "output_type": "stream",
     "text": [
      "/home/jayanta/anaconda3/lib/python3.7/site-packages/ipykernel_launcher.py:160: DeprecationWarning: Calling np.sum(generator) is deprecated, and in the future will give a different result. Use np.sum(np.fromiter(generator)) or the python sum builtin instead.\n"
     ]
    }
   ],
   "source": [
    "clf_train =  Gurobi_ICON(**param)\n",
    "clf_train.make_model()\n",
    "sol = clf_train.solve_model(price)"
   ]
  },
  {
   "cell_type": "code",
   "execution_count": 120,
   "metadata": {},
   "outputs": [
    {
     "data": {
      "text/plain": [
       "1661102.7726500002"
      ]
     },
     "execution_count": 120,
     "metadata": {},
     "output_type": "execute_result"
    }
   ],
   "source": [
    "sum(sol[0]*price)"
   ]
  },
  {
   "cell_type": "code",
   "execution_count": 121,
   "metadata": {},
   "outputs": [],
   "source": [
    "x = sol[1]"
   ]
  },
  {
   "cell_type": "code",
   "execution_count": 129,
   "metadata": {},
   "outputs": [
    {
     "name": "stdout",
     "output_type": "stream",
     "text": [
      "1661102.7726500004\n"
     ]
    }
   ],
   "source": [
    "print(sum( (sum(x[f,m,t] for m in Machines)*np.sum(price[t:t+D[f]])*P[f]*q/60) \n",
    "            for f in Tasks for t in range(N-D[f]+1)))"
   ]
  },
  {
   "cell_type": "code",
   "execution_count": 131,
   "metadata": {},
   "outputs": [
    {
     "name": "stderr",
     "output_type": "stream",
     "text": [
      "/home/jayanta/anaconda3/lib/python3.7/site-packages/ipykernel_launcher.py:2: DeprecationWarning: Calling np.sum(generator) is deprecated, and in the future will give a different result. Use np.sum(np.fromiter(generator)) or the python sum builtin instead.\n",
      "  \n"
     ]
    },
    {
     "data": {
      "text/plain": [
       "1661102.7726500004"
      ]
     },
     "execution_count": 131,
     "metadata": {},
     "output_type": "execute_result"
    }
   ],
   "source": [
    "sum( (np.sum(x[f,m,t] for m in Machines)*np.sum(price[t:t+D[f]])*P[f]*q/60) \n",
    "            for f in Tasks for t in range(N-D[f]+1))"
   ]
  },
  {
   "cell_type": "code",
   "execution_count": null,
   "metadata": {},
   "outputs": [],
   "source": []
  }
 ],
 "metadata": {
  "kernelspec": {
   "display_name": "Python 3",
   "language": "python",
   "name": "python3"
  },
  "language_info": {
   "codemirror_mode": {
    "name": "ipython",
    "version": 3
   },
   "file_extension": ".py",
   "mimetype": "text/x-python",
   "name": "python",
   "nbconvert_exporter": "python",
   "pygments_lexer": "ipython3",
   "version": "3.7.3"
  }
 },
 "nbformat": 4,
 "nbformat_minor": 2
}
